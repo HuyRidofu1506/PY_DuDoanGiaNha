{
 "cells": [
  {
   "cell_type": "code",
   "execution_count": null,
   "metadata": {},
   "outputs": [],
   "source": [
    "import pandas as pd\n",
    "import numpy as np\n",
    "import os\n",
    "import xgboost as xgb\n",
    "\n",
    "from sklearn.model_selection import train_test_split\n",
    "from sklearn.metrics import mean_squared_error, r2_score"
   ]
  },
  {
   "cell_type": "code",
   "execution_count": 2,
   "metadata": {},
   "outputs": [],
   "source": [
    "# ------------------- Đọc và chuẩn bị dữ liệu -------------------\n",
    "df = pd.read_csv(\"data_gia.csv\")\n",
    "\n",
    "# Tách đặc trưng và nhãn\n",
    "X = df.drop(\"Giá bán (VNĐ)\", axis=1)\n",
    "y = df[\"Giá bán (VNĐ)\"]\n",
    "\n",
    "# Chia tập train và test (80% - 20%)\n",
    "X_train, X_test, y_train, y_test = train_test_split(\n",
    "    X, y, test_size=0.2, random_state=42\n",
    ")"
   ]
  },
  {
   "cell_type": "code",
   "execution_count": 3,
   "metadata": {},
   "outputs": [
    {
     "data": {
      "text/plain": [
       "XGBRegressor(base_score=0.5, booster='gbtree', callbacks=None,\n",
       "             colsample_bylevel=1, colsample_bynode=1, colsample_bytree=1,\n",
       "             early_stopping_rounds=None, enable_categorical=False,\n",
       "             eval_metric=None, gamma=0, gpu_id=-1, grow_policy='depthwise',\n",
       "             importance_type=None, interaction_constraints='',\n",
       "             learning_rate=0.1, max_bin=256, max_cat_to_onehot=4,\n",
       "             max_delta_step=0, max_depth=4, max_leaves=0, min_child_weight=1,\n",
       "             missing=nan, monotone_constraints='()', n_estimators=100, n_jobs=0,\n",
       "             num_parallel_tree=1, predictor='auto', random_state=42,\n",
       "             reg_alpha=0, reg_lambda=1, ...)"
      ]
     },
     "execution_count": 3,
     "metadata": {},
     "output_type": "execute_result"
    }
   ],
   "source": [
    "# ------------------- Huấn luyện mô hình -------------------\n",
    "model = xgb.XGBRegressor(\n",
    "    objective='reg:squarederror', \n",
    "    n_estimators=100, \n",
    "    learning_rate=0.1, \n",
    "    max_depth=4, \n",
    "    random_state=42\n",
    ")\n",
    "\n",
    "model.fit(X_train, y_train)"
   ]
  },
  {
   "cell_type": "code",
   "execution_count": 4,
   "metadata": {},
   "outputs": [
    {
     "name": "stdout",
     "output_type": "stream",
     "text": [
      "MSE: 17,476,879,828,206,442.00\n",
      "RMSE: 132,200,150.64\n",
      "R2 Score: 0.3814\n",
      "Độ chính xác (MAPE-based): 80.99%\n"
     ]
    }
   ],
   "source": [
    "# ------------------- Đánh giá mô hình -------------------\n",
    "y_pred = model.predict(X_test)\n",
    "\n",
    "mse = mean_squared_error(y_test, y_pred)\n",
    "rmse = np.sqrt(mse)\n",
    "r2 = r2_score(y_test, y_pred)\n",
    "mape = np.mean(np.abs((y_test - y_pred) / y_test)) * 100\n",
    "accuracy = 100 - mape\n",
    "\n",
    "print(f\"MSE: {mse:,.2f}\")\n",
    "print(f\"RMSE: {rmse:,.2f}\")\n",
    "print(f\"R2 Score: {r2:.4f}\")\n",
    "print(f\"Độ chính xác (MAPE-based): {accuracy:.2f}%\")"
   ]
  },
  {
   "cell_type": "code",
   "execution_count": 5,
   "metadata": {},
   "outputs": [
    {
     "name": "stdout",
     "output_type": "stream",
     "text": [
      "Mô hình đã được lưu vào file: 'exported_model\\xgboost_model.json'\n"
     ]
    }
   ],
   "source": [
    "# ------------------- Lưu mô hình -------------------\n",
    "save_dir = \"exported_model\"\n",
    "os.makedirs(save_dir, exist_ok=True)\n",
    "\n",
    "model_path = os.path.join(save_dir, \"xgboost_model.json\")\n",
    "model.save_model(model_path)\n",
    "\n",
    "print(f\"Mô hình đã được lưu vào file: '{model_path}'\")"
   ]
  },
  {
   "cell_type": "code",
   "execution_count": 6,
   "metadata": {},
   "outputs": [
    {
     "name": "stdout",
     "output_type": "stream",
     "text": [
      "\n",
      "Giá bán dự đoán cho căn nhà mới: 598,004,480 VNĐ\n"
     ]
    }
   ],
   "source": [
    "# ------------------- Dự đoán với dữ liệu mới -------------------\n",
    "new_house = pd.DataFrame({\n",
    "    \"Diện tích (m2)\": [120],\n",
    "    \"Số phòng ngủ\": [3],\n",
    "    \"Số phòng tắm\": [2],\n",
    "    \"Năm xây dựng\": [1990],\n",
    "    \"Vị trí (Mã vùng)\": [55156]\n",
    "})\n",
    "\n",
    "# Đảm bảo kiểu dữ liệu khớp\n",
    "new_house = new_house.astype(X.dtypes.to_dict())\n",
    "\n",
    "predicted_price = model.predict(new_house)[0]\n",
    "print(f\"\\nGiá bán dự đoán cho căn nhà mới: {predicted_price:,.0f} VNĐ\")"
   ]
  }
 ],
 "metadata": {
  "kernelspec": {
   "display_name": "Python 3",
   "language": "python",
   "name": "python3"
  },
  "language_info": {
   "codemirror_mode": {
    "name": "ipython",
    "version": 3
   },
   "file_extension": ".py",
   "mimetype": "text/x-python",
   "name": "python",
   "nbconvert_exporter": "python",
   "pygments_lexer": "ipython3",
   "version": "3.7.9"
  }
 },
 "nbformat": 4,
 "nbformat_minor": 2
}
