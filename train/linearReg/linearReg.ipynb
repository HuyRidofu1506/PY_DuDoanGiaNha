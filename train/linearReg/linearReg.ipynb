{
 "cells": [
  {
   "cell_type": "code",
   "execution_count": 11,
   "id": "252adf28",
   "metadata": {},
   "outputs": [],
   "source": [
    "import pandas as pd\n",
    "import numpy as np\n",
    "import os\n",
    "import joblib\n",
    "from sklearn.model_selection import train_test_split\n",
    "from sklearn.linear_model import LinearRegression\n",
    "from sklearn.metrics import mean_squared_error, r2_score\n",
    "import matplotlib.pyplot as plt\n",
    "\n",
    "def mean_absolute_percentage_accuracy(y_true, y_pred):\n",
    "    \"\"\"\n",
    "    Tính độ chính xác phần trăm dựa trên MAPE\n",
    "    Công thức: 100% - (trung bình tỷ lệ sai số tuyệt đối)\n",
    "    \"\"\"\n",
    "    y_true, y_pred = np.array(y_true), np.array(y_pred)\n",
    "    \n",
    "    # Kiểm tra để tránh chia cho 0\n",
    "    if np.any(y_true == 0):\n",
    "        print(\"Cảnh báo: Giá trị thực tế có chứa 0, loại bỏ các mẫu này để tính toán\")\n",
    "        mask = y_true != 0\n",
    "        y_true = y_true[mask]\n",
    "        y_pred = y_pred[mask]\n",
    "        if len(y_true) == 0:\n",
    "            return 0.0\n",
    "    \n",
    "    # Tính MAPE và chuyển thành độ chính xác\n",
    "    mape = np.mean(np.abs((y_true - y_pred) / y_true)) * 100\n",
    "    accuracy = 100 - mape\n",
    "    \n",
    "    return accuracy"
   ]
  },
  {
   "cell_type": "code",
   "execution_count": 12,
   "id": "99b9e940",
   "metadata": {},
   "outputs": [
    {
     "name": "stdout",
     "output_type": "stream",
     "text": [
      "==================================================\n",
      "THÔNG TIN DỮ LIỆU\n",
      "==================================================\n",
      "<class 'pandas.core.frame.DataFrame'>\n",
      "RangeIndex: 5000 entries, 0 to 4999\n",
      "Data columns (total 6 columns):\n",
      " #   Column            Non-Null Count  Dtype\n",
      "---  ------            --------------  -----\n",
      " 0   Diện tích (m2)    5000 non-null   int64\n",
      " 1   Số phòng ngủ      5000 non-null   int64\n",
      " 2   Số phòng tắm      5000 non-null   int64\n",
      " 3   Năm xây dựng      5000 non-null   int64\n",
      " 4   Vị trí (Mã vùng)  5000 non-null   int64\n",
      " 5   Giá bán (VNĐ)     5000 non-null   int64\n",
      "dtypes: int64(6)\n",
      "memory usage: 234.5 KB\n",
      "None\n",
      "\n",
      "5 mẫu dữ liệu đầu tiên:\n",
      "   Diện tích (m2)  Số phòng ngủ  Số phòng tắm  Năm xây dựng  Vị trí (Mã vùng)  \\\n",
      "0             132             2             1          1950             55156   \n",
      "1             136             4             3          2003             55156   \n",
      "2             101             1             1          1996             55123   \n",
      "3             218             4             3          1988             55111   \n",
      "4              50             2             1          1979             55106   \n",
      "\n",
      "   Giá bán (VNĐ)  \n",
      "0      608758809  \n",
      "1      822421566  \n",
      "2      507978846  \n",
      "3      742000789  \n",
      "4      350159109  \n"
     ]
    }
   ],
   "source": [
    "# Đọc dữ liệu từ file CSV\n",
    "data = pd.read_csv('data_gia.csv')\n",
    "\n",
    "# Hiển thị thông tin cơ bản về dữ liệu\n",
    "print(\"=\"*50)\n",
    "print(\"THÔNG TIN DỮ LIỆU\")\n",
    "print(\"=\"*50)\n",
    "print(data.info())\n",
    "print(\"\\n5 mẫu dữ liệu đầu tiên:\")\n",
    "print(data.head())"
   ]
  },
  {
   "cell_type": "code",
   "execution_count": 13,
   "id": "59bb05a6",
   "metadata": {},
   "outputs": [
    {
     "name": "stdout",
     "output_type": "stream",
     "text": [
      "\n",
      "KIỂM TRA GIÁ TRỊ THIẾU\n",
      "==================================================\n",
      "Diện tích (m2)      0\n",
      "Số phòng ngủ        0\n",
      "Số phòng tắm        0\n",
      "Năm xây dựng        0\n",
      "Vị trí (Mã vùng)    0\n",
      "Giá bán (VNĐ)       0\n",
      "dtype: int64\n"
     ]
    }
   ],
   "source": [
    "# Kiểm tra giá trị thiếu\n",
    "print(\"\\nKIỂM TRA GIÁ TRỊ THIẾU\")\n",
    "print(\"=\"*50)\n",
    "print(data.isnull().sum())"
   ]
  },
  {
   "cell_type": "code",
   "execution_count": 14,
   "id": "d3b54eac",
   "metadata": {},
   "outputs": [],
   "source": [
    "# Xử lý giá trị thiếu nếu có\n",
    "if data.isnull().sum().any():\n",
    "    print(\"\\nXử lý giá trị thiếu...\")\n",
    "    data = data.dropna()\n",
    "    print(\"Đã xóa các dòng có giá trị thiếu\")"
   ]
  },
  {
   "cell_type": "code",
   "execution_count": 15,
   "id": "0b200a11",
   "metadata": {},
   "outputs": [],
   "source": [
    "# Chia dữ liệu thành features (X) và target (y)\n",
    "X = data[['Diện tích (m2)', 'Số phòng ngủ', 'Số phòng tắm', 'Năm xây dựng', 'Vị trí (Mã vùng)']]\n",
    "y = data['Giá bán (VNĐ)']\n",
    "\n",
    "# Chia dữ liệu thành tập huấn luyện và tập kiểm tra (80-20)\n",
    "X_train, X_test, y_train, y_test = train_test_split(X, y, test_size=0.2, random_state=42)"
   ]
  },
  {
   "cell_type": "code",
   "execution_count": 16,
   "id": "57c8072e",
   "metadata": {},
   "outputs": [
    {
     "name": "stdout",
     "output_type": "stream",
     "text": [
      "\n",
      "HUẤN LUYỆN MÔ HÌNH\n",
      "==================================================\n",
      "Hoàn thành huấn luyện mô hình!\n"
     ]
    }
   ],
   "source": [
    "# Khởi tạo và huấn luyện mô hình\n",
    "print(\"\\nHUẤN LUYỆN MÔ HÌNH\")\n",
    "print(\"=\"*50)\n",
    "model = LinearRegression()\n",
    "model.fit(X_train, y_train)\n",
    "print(\"Hoàn thành huấn luyện mô hình!\")"
   ]
  },
  {
   "cell_type": "code",
   "execution_count": 17,
   "id": "7a07bd92",
   "metadata": {},
   "outputs": [],
   "source": [
    "# Dự đoán trên tập kiểm tra\n",
    "y_pred = model.predict(X_test)\n"
   ]
  },
  {
   "cell_type": "code",
   "execution_count": 18,
   "id": "850c9f19",
   "metadata": {},
   "outputs": [],
   "source": [
    "# Tính các chỉ số đánh giá\n",
    "mse = mean_squared_error(y_test, y_pred)\n",
    "rmse = np.sqrt(mse)\n",
    "r2 = r2_score(y_test, y_pred)\n",
    "mape_accuracy = mean_absolute_percentage_accuracy(y_test, y_pred)"
   ]
  },
  {
   "cell_type": "code",
   "execution_count": 19,
   "id": "f35ed04b",
   "metadata": {},
   "outputs": [
    {
     "name": "stdout",
     "output_type": "stream",
     "text": [
      "\n",
      "ĐÁNH GIÁ MÔ HÌNH\n",
      "==================================================\n",
      "- MSE: 16,918,969,359,837,610.00\n",
      "- RMSE: 130,072,938.61 VND\n",
      "- R2 Score: 0.4012\n",
      "- Độ chính xác (MAPE-based): 81.08%\n"
     ]
    }
   ],
   "source": [
    "# Báo cáo kết quả\n",
    "print(\"\\nĐÁNH GIÁ MÔ HÌNH\")\n",
    "print(\"=\"*50)\n",
    "print(f\"- MSE: {mse:,.2f}\")\n",
    "print(f\"- RMSE: {rmse:,.2f} VND\")\n",
    "print(f\"- R2 Score: {r2:.4f}\")\n",
    "print(f\"- Độ chính xác (MAPE-based): {mape_accuracy:.2f}%\")"
   ]
  },
  {
   "cell_type": "code",
   "execution_count": 20,
   "id": "77464cf8",
   "metadata": {},
   "outputs": [
    {
     "name": "stdout",
     "output_type": "stream",
     "text": [
      "Mô hình đã được lưu vào file: 'exported_model\\linearreg_model.pkl'\n"
     ]
    }
   ],
   "source": [
    "save_dir = \"exported_model\"\n",
    "os.makedirs(save_dir, exist_ok=True)\n",
    "\n",
    "model_path = os.path.join(save_dir, \"linearreg_model.pkl\")\n",
    "joblib.dump(model, model_path)\n",
    "\n",
    "print(f\"Mô hình đã được lưu vào file: '{model_path}'\")"
   ]
  },
  {
   "cell_type": "code",
   "execution_count": 21,
   "id": "796e5e0c",
   "metadata": {},
   "outputs": [
    {
     "name": "stdout",
     "output_type": "stream",
     "text": [
      "\n",
      "PHÂN TÍCH ĐỘ CHÍNH XÁC CHI TIẾT\n",
      "==================================================\n",
      "- 28.10% dự đoán có sai số ≤ 10%\n",
      "- 61.00% dự đoán có sai số ≤ 20%\n",
      "- 83.00% dự đoán có sai số ≤ 30%\n"
     ]
    }
   ],
   "source": [
    "# Phân tích độ chính xác chi tiết\n",
    "relative_errors = np.abs((y_test - y_pred) / y_test)\n",
    "print(\"\\nPHÂN TÍCH ĐỘ CHÍNH XÁC CHI TIẾT\")\n",
    "print(\"=\"*50)\n",
    "print(f\"- {np.mean(relative_errors <= 0.1)*100:.2f}% dự đoán có sai số ≤ 10%\")\n",
    "print(f\"- {np.mean(relative_errors <= 0.2)*100:.2f}% dự đoán có sai số ≤ 20%\")\n",
    "print(f\"- {np.mean(relative_errors <= 0.3)*100:.2f}% dự đoán có sai số ≤ 30%\")"
   ]
  },
  {
   "cell_type": "code",
   "execution_count": 22,
   "id": "c9fcc9e5",
   "metadata": {},
   "outputs": [
    {
     "name": "stdout",
     "output_type": "stream",
     "text": [
      "\n",
      "HỆ SỐ MÔ HÌNH\n",
      "==================================================\n",
      "Diện tích (m2): 989,223.88\n",
      "Số phòng ngủ: 51,818,898.29\n",
      "Số phòng tắm: 35,577,835.75\n",
      "Năm xây dựng: -150,721.79\n",
      "Vị trí (Mã vùng): -79,067.82\n",
      "Intercept (Bias): 4,917,361,281.49\n"
     ]
    }
   ],
   "source": [
    "# Đánh giá hệ số của mô hình\n",
    "print(\"\\nHỆ SỐ MÔ HÌNH\")\n",
    "print(\"=\"*50)\n",
    "for feature, coef in zip(X.columns, model.coef_):\n",
    "    print(f\"{feature}: {coef:,.2f}\")\n",
    "print(f\"Intercept (Bias): {model.intercept_:,.2f}\")"
   ]
  },
  {
   "cell_type": "code",
   "execution_count": 23,
   "id": "6d074072",
   "metadata": {},
   "outputs": [
    {
     "name": "stdout",
     "output_type": "stream",
     "text": [
      "\n",
      "DỰ ĐOÁN MẪU\n",
      "==================================================\n",
      "Dự đoán giá nhà cho mẫu mới: 602,027,896.71 VND\n"
     ]
    }
   ],
   "source": [
    "# Ví dụ dự đoán cho một ngôi nhà mới\n",
    "print(\"\\nDỰ ĐOÁN MẪU\")\n",
    "print(\"=\"*50)\n",
    "new_house = pd.DataFrame({\n",
    "    'Diện tích (m2)': [120],\n",
    "    'Số phòng ngủ': [3],\n",
    "    'Số phòng tắm': [2],\n",
    "    'Năm xây dựng': [2005],\n",
    "    'Vị trí (Mã vùng)': [55123]\n",
    "})\n",
    "\n",
    "predicted_price = model.predict(new_house)\n",
    "print(f\"Dự đoán giá nhà cho mẫu mới: {predicted_price[0]:,.2f} VND\")"
   ]
  },
  {
   "cell_type": "code",
   "execution_count": 24,
   "id": "0c31d565",
   "metadata": {},
   "outputs": [
    {
     "name": "stdout",
     "output_type": "stream",
     "text": [
      "\n",
      "ĐANG TẠO BIỂU ĐỒ...\n"
     ]
    },
    {
     "data": {
      "text/plain": [
       "<Figure size 1500x1000 with 0 Axes>"
      ]
     },
     "execution_count": 24,
     "metadata": {},
     "output_type": "execute_result"
    },
    {
     "data": {
      "text/plain": [
       "<Figure size 1500x1000 with 0 Axes>"
      ]
     },
     "metadata": {},
     "output_type": "display_data"
    }
   ],
   "source": [
    "# Trực quan hóa kết quả\n",
    "print(\"\\nĐANG TẠO BIỂU ĐỒ...\")\n",
    "plt.figure(figsize=(15, 10))"
   ]
  },
  {
   "cell_type": "code",
   "execution_count": 25,
   "id": "4bb1f34b",
   "metadata": {},
   "outputs": [
    {
     "data": {
      "image/png": "[encoded data removed]",
      "text/plain": [
       "<Figure size 640x480 with 4 Axes>"
      ]
     },
     "metadata": {},
     "output_type": "display_data"
    }
   ],
   "source": [
    "# Biểu đồ 1: So sánh giá thực tế và giá dự đoán\n",
    "plt.subplot(2, 2, 1)\n",
    "plt.scatter(y_test, y_pred, alpha=0.5)\n",
    "plt.plot([y.min(), y.max()], [y.min(), y.max()], 'k--', lw=2)\n",
    "plt.xlabel('Giá thực tế (VND)')\n",
    "plt.ylabel('Giá dự đoán (VND)')\n",
    "plt.title('So sánh giá thực tế và giá dự đoán')\n",
    "\n",
    "# Biểu đồ 2: Phân phối sai số\n",
    "plt.subplot(2, 2, 2)\n",
    "errors = y_test - y_pred\n",
    "plt.hist(errors, bins=30)\n",
    "plt.xlabel('Sai số dự đoán (VND)')\n",
    "plt.ylabel('Tần suất')\n",
    "plt.title('Phân phối sai số dự đoán')\n",
    "\n",
    "# Biểu đồ 3: Phân phối sai số tương đối (%)\n",
    "plt.subplot(2, 2, 3)\n",
    "relative_errors_pct = relative_errors * 100\n",
    "plt.hist(relative_errors_pct, bins=30)\n",
    "plt.xlabel('Sai số tương đối (%)')\n",
    "plt.ylabel('Tần suất')\n",
    "plt.title('Phân phối sai số tương đối')\n",
    "\n",
    "# Biểu đồ 4: Feature importance (tầm quan trọng các đặc trưng)\n",
    "plt.subplot(2, 2, 4)\n",
    "coefs = pd.Series(model.coef_, index=X.columns)\n",
    "coefs.plot(kind='barh')\n",
    "plt.title('Tầm quan trọng của các đặc trưng')\n",
    "plt.xlabel('Hệ số hồi quy')\n",
    "\n",
    "plt.tight_layout()\n",
    "plt.show()"
   ]
  }
 ],
 "metadata": {
  "kernelspec": {
   "display_name": "Python 3",
   "language": "python",
   "name": "python3"
  },
  "language_info": {
   "codemirror_mode": {
    "name": "ipython",
    "version": 3
   },
   "file_extension": ".py",
   "mimetype": "text/x-python",
   "name": "python",
   "nbconvert_exporter": "python",
   "pygments_lexer": "ipython3",
   "version": "3.10.11"
  }
 },
 "nbformat": 4,
 "nbformat_minor": 5
}
